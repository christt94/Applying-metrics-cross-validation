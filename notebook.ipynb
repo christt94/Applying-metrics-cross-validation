{
 "cells": [
  {
   "cell_type": "markdown",
   "id": "8ed628bf",
   "metadata": {},
   "source": [
    "# Applying metrics and cross-validation"
   ]
  },
  {
   "cell_type": "markdown",
   "id": "e2a8a8bd",
   "metadata": {},
   "source": [
    "## 1. Setting up your environment: Assume a virtual env was created and all dep. in the requierements.txt file installed"
   ]
  },
  {
   "cell_type": "markdown",
   "id": "da0bd8dc",
   "metadata": {},
   "source": [
    "## 2. Importing required libraries"
   ]
  },
  {
   "cell_type": "code",
   "execution_count": 1,
   "id": "14ec2a38",
   "metadata": {},
   "outputs": [],
   "source": [
    "import numpy as np\n",
    "import pandas as pd\n",
    "from sklearn.model_selection import train_test_split, cross_val_score, KFold\n",
    "from sklearn.linear_model import LogisticRegression\n",
    "from sklearn.tree import DecisionTreeClassifier\n",
    "from sklearn.metrics import accuracy_score, precision_score, recall_score, f1_score, r2_score"
   ]
  },
  {
   "cell_type": "markdown",
   "id": "18a02f12",
   "metadata": {},
   "source": [
    "## 3. Loading and preparing the data"
   ]
  },
  {
   "cell_type": "code",
   "execution_count": 2,
   "id": "52a4a8c4",
   "metadata": {},
   "outputs": [],
   "source": [
    "# Sample dataset: Study hours, previous exam scores, and pass/fail labels\n",
    "data = {\n",
    "    'StudyHours': [1, 2, 3, 4, 5, 6, 7, 8, 9, 10],\n",
    "    'PrevExamScore': [30, 40, 45, 50, 60, 65, 70, 75, 80, 85],\n",
    "    'Pass': [0, 0, 0, 0, 0, 1, 1, 1, 1, 1]  # 0 = Fail, 1 = Pass\n",
    "}\n",
    "\n",
    "df = pd.DataFrame(data)\n",
    "\n",
    "# Features and target variable\n",
    "X = df[['StudyHours', 'PrevExamScore']]\n",
    "y = df['Pass']"
   ]
  },
  {
   "cell_type": "markdown",
   "id": "f772ff03",
   "metadata": {},
   "source": [
    "## 4. Applying evaluation metrics without cross-validation"
   ]
  },
  {
   "cell_type": "code",
   "execution_count": 3,
   "id": "d3515789",
   "metadata": {},
   "outputs": [],
   "source": [
    "from sklearn.linear_model import LogisticRegression\n",
    "\n",
    "# Split the data into training and testing sets (80% training, 20% testing)\n",
    "X_train, X_test, y_train, y_test = train_test_split(X, y, test_size=0.2, random_state=42)\n",
    "\n",
    "# Initialize and train the Logistic Regression model\n",
    "model = LogisticRegression()\n",
    "model.fit(X_train, y_train)\n",
    "\n",
    "# Make predictions on the test set\n",
    "y_pred = model.predict(X_test)"
   ]
  },
  {
   "cell_type": "markdown",
   "id": "8c9bbdc6",
   "metadata": {},
   "source": [
    "**Next, calculate the model’s accuracy, precision, recall, and F1 score using the test set predictions:**"
   ]
  },
  {
   "cell_type": "code",
   "execution_count": 4,
   "id": "1d91367b",
   "metadata": {},
   "outputs": [
    {
     "name": "stdout",
     "output_type": "stream",
     "text": [
      "Accuracy: 1.0\n",
      "Precision: 1.0\n",
      "Recall: 1.0\n",
      "F1-Score: 1.0\n"
     ]
    }
   ],
   "source": [
    "# Calculate metrics\n",
    "accuracy = accuracy_score(y_test, y_pred)\n",
    "precision = precision_score(y_test, y_pred)\n",
    "recall = recall_score(y_test, y_pred)\n",
    "f1 = f1_score(y_test, y_pred)\n",
    "\n",
    "print(f'Accuracy: {accuracy}')\n",
    "print(f'Precision: {precision}')\n",
    "print(f'Recall: {recall}')\n",
    "print(f'F1-Score: {f1}')"
   ]
  },
  {
   "cell_type": "markdown",
   "id": "16a39b64",
   "metadata": {},
   "source": [
    "**While the above method works, it’s limited by the single train-test split, which could lead to overfitting or underfitting. To get a more reliable performance estimate, we should use cross-validation. (cross-validation allows you to split the dataset into multiple subsets and reliably calculate model performance).**"
   ]
  },
  {
   "cell_type": "markdown",
   "id": "fb9a8f0d",
   "metadata": {},
   "source": [
    "## 5. Performing k-fold cross-validation"
   ]
  },
  {
   "cell_type": "markdown",
   "id": "7af49efe",
   "metadata": {},
   "source": [
    "**Here we use k-fold cross-validation, where the dataset is split into k equal parts (folds). Each fold is used as a test set while the remaining folds are used for training:**"
   ]
  },
  {
   "cell_type": "code",
   "execution_count": 5,
   "id": "1111582c",
   "metadata": {},
   "outputs": [
    {
     "name": "stdout",
     "output_type": "stream",
     "text": [
      "Cross-validation accuracies: [1.  1.  1.  1.  0.5]\n",
      "Mean cross-validation accuracy: 0.9\n"
     ]
    }
   ],
   "source": [
    "from sklearn.model_selection import cross_val_score\n",
    "\n",
    "# Initialize the model\n",
    "model = LogisticRegression()\n",
    "\n",
    "# Perform 5-fold cross-validation and calculate accuracy for each fold\n",
    "cv_scores = cross_val_score(model, X, y, cv=5, scoring='accuracy')\n",
    "\n",
    "# Display the accuracy for each fold and the mean accuracy\n",
    "print(f'Cross-validation accuracies: {cv_scores}')\n",
    "print(f'Mean cross-validation accuracy: {np.mean(cv_scores)}')"
   ]
  },
  {
   "cell_type": "markdown",
   "id": "0ececccc",
   "metadata": {},
   "source": [
    "**Here, the cross_val_score function automatically splits the data into five folds, trains the model on four folds, and tests it on the remaining fold. This process is repeated five times, and it reports the accuracy for each fold.**"
   ]
  },
  {
   "cell_type": "markdown",
   "id": "8360267c",
   "metadata": {},
   "source": [
    "## 6. Cross-validation with multiple metrics"
   ]
  },
  {
   "cell_type": "code",
   "execution_count": 6,
   "id": "d29e92ca",
   "metadata": {},
   "outputs": [
    {
     "name": "stdout",
     "output_type": "stream",
     "text": [
      "Cross-validation Accuracy: 0.9\n",
      "Cross-validation Precision: 0.9\n",
      "Cross-validation Recall: 1.0\n",
      "Cross-validation F1-Score: 0.9333333333333333\n"
     ]
    }
   ],
   "source": [
    "from sklearn.model_selection import cross_validate\n",
    "\n",
    "# Define multiple scoring metrics\n",
    "scoring = ['accuracy', 'precision', 'recall', 'f1']\n",
    "\n",
    "# Perform cross-validation\n",
    "cv_results = cross_validate(model, X, y, cv=5, scoring=scoring)\n",
    "\n",
    "# Print results for each metric\n",
    "print(f\"Cross-validation Accuracy: {np.mean(cv_results['test_accuracy'])}\")\n",
    "print(f\"Cross-validation Precision: {np.mean(cv_results['test_precision'])}\")\n",
    "print(f\"Cross-validation Recall: {np.mean(cv_results['test_recall'])}\")\n",
    "print(f\"Cross-validation F1-Score: {np.mean(cv_results['test_f1'])}\")"
   ]
  },
  {
   "cell_type": "markdown",
   "id": "76404017",
   "metadata": {},
   "source": [
    "**This approach presents the average metrics for each fold, providing a better picture of how the model performs across different data splits.**"
   ]
  },
  {
   "cell_type": "markdown",
   "id": "f676e95e",
   "metadata": {},
   "source": [
    "## 7. Cross-validation with a regression model"
   ]
  },
  {
   "cell_type": "markdown",
   "id": "742bcd0d",
   "metadata": {},
   "source": [
    "**For regression tasks, use metrics such as mean absolute error (MAE), mean squared error (MSE), and R-squared. Apply these metrics with cross-validation for a regression model:**"
   ]
  },
  {
   "cell_type": "code",
   "execution_count": 7,
   "id": "7e23373e",
   "metadata": {},
   "outputs": [
    {
     "name": "stdout",
     "output_type": "stream",
     "text": [
      "Cross-validation R-squared scores: [ 0.52933673  0.88503086 -0.60298929  0.88503086 -1.28939909]\n",
      "Mean R-squared score: 0.08140201560607467\n"
     ]
    }
   ],
   "source": [
    "from sklearn.linear_model import LinearRegression\n",
    "from sklearn.metrics import mean_squared_error, mean_absolute_error, r2_score\n",
    "\n",
    "# Sample dataset for regression\n",
    "X_reg = df[['StudyHours']]\n",
    "y_reg = df['PrevExamScore']\n",
    "\n",
    "# Initialize a linear regression model\n",
    "reg_model = LinearRegression()\n",
    "\n",
    "# Perform 5-fold cross-validation using R-squared as the metric\n",
    "cv_scores_r2 = cross_val_score(reg_model, X_reg, y_reg, cv=5, scoring='r2')\n",
    "\n",
    "print(f'Cross-validation R-squared scores: {cv_scores_r2}')\n",
    "print(f'Mean R-squared score: {np.mean(cv_scores_r2)}')"
   ]
  },
  {
   "cell_type": "markdown",
   "id": "41c8bfb6",
   "metadata": {},
   "source": [
    "**For regression models:**\n",
    "\n",
    "-- R-squared indicates how well the model explains the variance in the target variable.\n",
    "\n",
    "-- MSE and MAE measure the average error between the predicted and actual values."
   ]
  }
 ],
 "metadata": {
  "kernelspec": {
   "display_name": "cross",
   "language": "python",
   "name": "python3"
  },
  "language_info": {
   "codemirror_mode": {
    "name": "ipython",
    "version": 3
   },
   "file_extension": ".py",
   "mimetype": "text/x-python",
   "name": "python",
   "nbconvert_exporter": "python",
   "pygments_lexer": "ipython3",
   "version": "3.13.5"
  }
 },
 "nbformat": 4,
 "nbformat_minor": 5
}
